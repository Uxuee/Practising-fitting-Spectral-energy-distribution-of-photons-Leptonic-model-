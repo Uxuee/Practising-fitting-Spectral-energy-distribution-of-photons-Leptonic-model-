{
 "cells": [
  {
   "cell_type": "code",
   "execution_count": 14,
   "metadata": {},
   "outputs": [],
   "source": [
    "from IPython.display import Image\n",
    "from IPython.core.display import HTML \n",
    "A1=Image(url= \"https://numpy.org/_static/numpy_logo.png\")\n",
    "A2=Image(url=\"https://www.scipy.org/_static/logo.png\")\n",
    "A3=Image(url=\"https://lh3.googleusercontent.com/KMyA2BL8FZhH06pBG_zC7jFk7ANRFz5MYCt7mT-xX1FeZUA28_TYBD08oKB3Pn5n_K7aLg=s170\")"
   ]
  },
  {
   "cell_type": "markdown",
   "metadata": {},
   "source": [
    "Tutorial adaptado del tutorial original de Naima: https://naima.readthedocs.io/en/latest/tutorial.html"
   ]
  },
  {
   "cell_type": "markdown",
   "metadata": {},
   "source": [
    "Naima use the packages:"
   ]
  },
  {
   "cell_type": "code",
   "execution_count": 11,
   "metadata": {},
   "outputs": [
    {
     "data": {
      "text/html": [
       "<img src=\"https://numpy.org/_static/numpy_logo.png\"/>"
      ],
      "text/plain": [
       "<IPython.core.display.Image object>"
      ]
     },
     "execution_count": 11,
     "metadata": {},
     "output_type": "execute_result"
    }
   ],
   "source": [
    "A1"
   ]
  },
  {
   "cell_type": "markdown",
   "metadata": {},
   "source": [
    "NumPy es funcdamental para hacer computación científica. Es muy útil porque tiene arrays N dimencionales."
   ]
  },
  {
   "cell_type": "code",
   "execution_count": 12,
   "metadata": {},
   "outputs": [
    {
     "data": {
      "text/html": [
       "<img src=\"https://www.scipy.org/_static/logo.png\"/>"
      ],
      "text/plain": [
       "<IPython.core.display.Image object>"
      ]
     },
     "execution_count": 12,
     "metadata": {},
     "output_type": "execute_result"
    }
   ],
   "source": [
    "A2"
   ]
  },
  {
   "cell_type": "markdown",
   "metadata": {},
   "source": [
    "SciPy es un conjunto de paquete para hacer matemáticas y ciencia en general."
   ]
  },
  {
   "cell_type": "code",
   "execution_count": 15,
   "metadata": {},
   "outputs": [
    {
     "data": {
      "text/html": [
       "<img src=\"https://lh3.googleusercontent.com/KMyA2BL8FZhH06pBG_zC7jFk7ANRFz5MYCt7mT-xX1FeZUA28_TYBD08oKB3Pn5n_K7aLg=s170\"/>"
      ],
      "text/plain": [
       "<IPython.core.display.Image object>"
      ]
     },
     "execution_count": 15,
     "metadata": {},
     "output_type": "execute_result"
    }
   ],
   "source": [
    "A3"
   ]
  },
  {
   "cell_type": "markdown",
   "metadata": {},
   "source": [
    "Matplotlib es un paquete que produce gráficos en 2D en Python."
   ]
  },
  {
   "cell_type": "markdown",
   "metadata": {},
   "source": [
    "# Corner.py"
   ]
  },
  {
   "cell_type": "markdown",
   "metadata": {},
   "source": [
    "Es un paquete para visualizar muestras multidimensionales con una matriz de scatter plot para ver las covarianzas. Corner fue originalmente hecho para mostrar resultados de simulaciones de Moarkov Chain Monte Carlo."
   ]
  },
  {
   "cell_type": "markdown",
   "metadata": {},
   "source": [
    "# h5py"
   ]
  },
  {
   "cell_type": "markdown",
   "metadata": {},
   "source": [
    "Este paquete es una interface de Python al formato de data binario HDF5. Permite manipular de manera muy facil la data si se tiene grandes cantidades de data numérica."
   ]
  },
  {
   "cell_type": "markdown",
   "metadata": {},
   "source": [
    "# emcee"
   ]
  },
  {
   "cell_type": "markdown",
   "metadata": {},
   "source": [
    "Es un paquete licensiado por el MIT para producir y manipular ensembles Goodman & Weare’s Affine Invariant Markov chain Monte Carlo (MCMC)."
   ]
  },
  {
   "cell_type": "markdown",
   "metadata": {},
   "source": [
    "El paquete actual (3.0.2) no permite utilizar la función de  ``naima.run_sampler`` por lo cual se recomienda bajar la 2.1.0"
   ]
  },
  {
   "cell_type": "markdown",
   "metadata": {},
   "source": [
    "# Tutorial Extendido: Modelar un espectro SED con Naima"
   ]
  },
  {
   "cell_type": "markdown",
   "metadata": {},
   "source": [
    "### 1° Primero se debe leer el espectro en un formato adecuado"
   ]
  },
  {
   "cell_type": "markdown",
   "metadata": {},
   "source": [
    "La tabla con los datos debe contener al menos 3 columnas con las unidades apropiadas:\n",
    "- ``Energía``: Energía de fotones observada [``Energía ``: $TeV$]\n",
    "- ``Flujo``: Flujo observado [``flujo`` : $erg\\,cm^{−2}\\,s^{−1}$ o\n",
    "  ``flujo diferencial`` :  $1/(s\\,cm^2\\,eV)$]\n",
    "- ``Error del flujo``: 68% CL gaussian uncertainty of the flux [``flujo`` : $erg\\,cm^{−2}\\,s^{−1}$ o\n",
    "  ``flujo diferencial`` :  $1/(s\\,cm^2\\,eV)$]. O en su lugar se puede aceptar: ``flux_error_lo``\n",
    "  and ``flux_error_hi``."
   ]
  },
  {
   "cell_type": "markdown",
   "metadata": {},
   "source": [
    "- ``flux_error_lo`` and ``flux_error_hi``: 68% CL gaussian lower and\n",
    "  upper uncertainties of the flux."
   ]
  },
  {
   "cell_type": "code",
   "execution_count": 16,
   "metadata": {},
   "outputs": [
    {
     "name": "stderr",
     "output_type": "stream",
     "text": [
      "C:\\Users\\Ariadna\\Anaconda3\\lib\\site-packages\\h5py\\__init__.py:36: FutureWarning: Conversion of the second argument of issubdtype from `float` to `np.floating` is deprecated. In future, it will be treated as `np.float64 == np.dtype(float).type`.\n",
      "  from ._conv import register_converters as _register_converters\n"
     ]
    }
   ],
   "source": [
    "import numpy as np\n",
    "from astropy.io import ascii\n",
    "import naima"
   ]
  },
  {
   "cell_type": "code",
   "execution_count": 17,
   "metadata": {},
   "outputs": [],
   "source": [
    "## Read data\n",
    "\n",
    "data = ascii.read(\"RXJ1713_HESS_2007.dat\")"
   ]
  },
  {
   "cell_type": "code",
   "execution_count": 18,
   "metadata": {},
   "outputs": [
    {
     "name": "stdout",
     "output_type": "stream",
     "text": [
      "energy energy_edge_lo energy_edge_hi       flux         flux_error    ul\n",
      " TeV        TeV            TeV       1 / (cm2 s TeV) 1 / (cm2 s TeV)    \n",
      "------ -------------- -------------- --------------- --------------- ---\n",
      "  0.33            0.3           0.37        2.29e-10         3.2e-11   0\n",
      "   0.4           0.37           0.44        1.25e-10         1.6e-11   0\n",
      "  0.49           0.44           0.54        9.46e-11           9e-12   0\n",
      "  0.59           0.54           0.65        6.06e-11         5.2e-12   0\n",
      "  0.71           0.65           0.79        4.37e-11         3.1e-12   0\n",
      "  0.86           0.79           0.95        2.15e-11         1.8e-12   0\n",
      "  1.04           0.95           1.15        1.82e-11         1.1e-12   0\n",
      "  1.26           1.15           1.39        1.17e-11           7e-13   0\n",
      "  1.53           1.39           1.69        8.87e-12           5e-13   0\n",
      "  1.85           1.69           2.04        5.63e-12         3.3e-13   0\n",
      "   ...            ...            ...             ...             ... ...\n",
      " 10.33           9.43          11.41        1.07e-13         1.4e-14   0\n",
      " 12.51          11.41          13.81        5.61e-14         9.7e-15   0\n",
      " 15.14          13.81          16.72        2.17e-14         6.9e-15   0\n",
      " 18.32          16.72          20.24        1.84e-14         4.6e-15   0\n",
      " 22.18          20.24           24.5        9.24e-15        3.16e-15   0\n",
      " 26.85           24.5          29.66         7.4e-15        2.06e-15   0\n",
      "  32.5          29.66          35.91        6.46e-15         1.5e-15   0\n",
      " 47.19          35.91          63.71        9.63e-16        3.93e-16   0\n",
      " 81.26          63.71         113.02        1.98e-16        1.29e-16   0\n",
      "169.79         113.02         293.82        1.35e-16             0.0   1\n",
      "Length = 28 rows\n"
     ]
    }
   ],
   "source": [
    "print(data)"
   ]
  },
  {
   "cell_type": "markdown",
   "metadata": {},
   "source": [
    "Muchos tipos de tablas de datos pueden ser utilizadas por las funciones ``get_sampler`` y ``run_sampler``. Estas tablas deben cumplir los requerimientos de arriba, pero no necesariamente tienen que estar en las mismas unidades porque Naima puede cambiarlas apropiadamente. "
   ]
  },
  {
   "cell_type": "markdown",
   "metadata": {},
   "source": [
    "Naima hace uso de Astropy para la conversión de unidades : ``astropy.units``. Muchos de los argumentos de las funciones y classes de Naima requieren cantidades en formatos definidos. Estas cantidades se pueden definir como:"
   ]
  },
  {
   "cell_type": "code",
   "execution_count": 19,
   "metadata": {},
   "outputs": [],
   "source": [
    "from astropy import units as u\n",
    "import numpy as np\n",
    "\n",
    "# Define scalar quantity\n",
    "q1 = 3. * u.kpc\n",
    "\n",
    "# Define array quantity using a list\n",
    "q2 = [1., 2., 3.] * u.arcsec\n",
    "\n",
    "# Define array quantity using a Numpy array\n",
    "q3 = np.array([1., 2., 3.]) * u.cm ** 2 / u.g"
   ]
  },
  {
   "cell_type": "markdown",
   "metadata": {},
   "source": [
    "### 2° Construyendo el modelo"
   ]
  },
  {
   "cell_type": "markdown",
   "metadata": {},
   "source": [
    "La función del modelo es la función que debe ser utilizada para modelar el espectro observable. Esta función debe aceptar dos parametros:\n",
    "- Un array parametros libres del modelo\n",
    "- La tabla de datos"
   ]
  },
  {
   "cell_type": "markdown",
   "metadata": {},
   "source": [
    "Naima incluye muchos modelos en el modulo ``naima.models`` que facilita modelar espectros comunes como:\n",
    "- PowerLaw\n",
    "- ExponentialCutoffPowerLaw\n",
    "- BrokenPowerLaw\n",
    "- LogParabola \n",
    "\n",
    "Tambien contiene muchos modelos de radiación como:\n",
    "\n",
    "- InverseCompton\n",
    "- Synchroton\n",
    "- Bremsstrahlung\n",
    "- PionDecay\n",
    "\n",
    "Una vez que se inicializan los parametros necesarios, todos los modelos pueden ser llamados con un array de energía para obtener el flujo del modelo correspondientes a los valores de energía en el array. Si se le entrega la tabla de datos como argumento, los valores de energía de la columna de energía serán usados."
   ]
  },
  {
   "cell_type": "markdown",
   "metadata": {},
   "source": [
    "Construir la función del modelo a partir de los modelos de Naima es facil. En el ejemplo, hay tres parametros del modelo en el array ``pars`` son la amplitud, el indice espectral (espectral index) y la energía de corte (cutoff energy). Primero se añadern las unidades necesarias para los modelos y luego se procesan y retornan el modelo del flujo para las energías en la tabla de datos."
   ]
  },
  {
   "cell_type": "code",
   "execution_count": 20,
   "metadata": {},
   "outputs": [],
   "source": [
    "## Model definition\n",
    "from naima.models import ExponentialCutoffPowerLaw, InverseCompton\n",
    "\n",
    "## Model definition\n",
    "\n",
    "def ElectronIC(pars, data):\n",
    "\n",
    "    # Match parameters to ECPL properties, and give them the appropriate units\n",
    "    amplitude = pars[0] / u.eV\n",
    "    alpha = pars[1]\n",
    "    e_cutoff = (10 ** pars[2]) * u.TeV\n",
    "\n",
    "    # Initialize instances of the particle distribution and radiative model\n",
    "    ECPL = ExponentialCutoffPowerLaw(amplitude, 10.0 * u.TeV, alpha, e_cutoff)\n",
    "    # Compute IC on CMB and on a FIR component with values from GALPROP for the\n",
    "    # position of RXJ1713\n",
    "    IC = InverseCompton(\n",
    "        ECPL,\n",
    "        seed_photon_fields=[\n",
    "            \"CMB\",\n",
    "            [\"FIR\", 26.5 * u.K, 0.415 * u.eV / u.cm ** 3],\n",
    "        ],\n",
    "        Eemin=100 * u.GeV,\n",
    "    )\n",
    "\n",
    "    # compute flux at the energies given in data['energy'], and convert to units\n",
    "    # of flux data\n",
    "    model = IC.flux(data, distance=1.0 * u.kpc).to(data[\"flux\"].unit)\n",
    "\n",
    "    # Save this realization of the particle distribution function\n",
    "    elec_energy = np.logspace(11, 15, 100) * u.eV\n",
    "    nelec = ECPL(elec_energy)\n",
    "\n",
    "    # Compute and save total energy in electrons above 1 TeV\n",
    "    We = IC.compute_We(Eemin=1 * u.TeV)\n",
    "\n",
    "    # The first array returned will be compared to the observed spectrum for\n",
    "    # fitting. All subsequent objects will be stores in the sampler metadata\n",
    "    # blobs.\n",
    "    return model, (elec_energy, nelec), We"
   ]
  },
  {
   "cell_type": "markdown",
   "metadata": {},
   "source": [
    "En adición a esto, se debe contruir una función ``prior``. Esta función produce el código que corresponde a cualquier conocimiento previo sobre los parámetros, como mediciones previas o rangos físicamente aceptables. Tres simples funciones ``prior`` estan incluidas en Naima: ``normal_prior``,  ``uniform_prior`` y ``loguniform_prior``."
   ]
  },
  {
   "cell_type": "code",
   "execution_count": 21,
   "metadata": {},
   "outputs": [],
   "source": [
    "\t## Prior definition\n",
    "\n",
    "\n",
    "def lnprior(pars):\n",
    "    \"\"\"\n",
    "    Return probability of parameter values according to prior knowledge.\n",
    "    Parameter limits should be done here through uniform prior ditributions\n",
    "    \"\"\"\n",
    "\n",
    "    logprob = naima.uniform_prior(pars[0], 0.0, np.inf) + naima.uniform_prior(\n",
    "        pars[1], -1, 5\n",
    "    )\n",
    "\n",
    "    return logprob"
   ]
  },
  {
   "cell_type": "markdown",
   "metadata": {},
   "source": [
    "### 3° Eligiendo un punto de inicio para el Sampling"
   ]
  },
  {
   "cell_type": "markdown",
   "metadata": {},
   "source": [
    "Antes de iniciar el Marcov Chain Monte Carlo, debemos darle los parametros iniciales estimados con los siguientes nombres en un formato de array y una lista:"
   ]
  },
  {
   "cell_type": "code",
   "execution_count": 22,
   "metadata": {},
   "outputs": [],
   "source": [
    "if __name__ == \"__main__\":\n",
    "\n",
    "    ## Set initial parameters and labels\n",
    "    p0 = np.array((1e30, 3.0, np.log10(30)))\n",
    "    labels = [\"norm\", \"index\", \"log10(cutoff)\"]"
   ]
  },
  {
   "cell_type": "markdown",
   "metadata": {},
   "source": [
    "Para los modelos con más de un canal de emisión como Synchroton y Inverse Compron es más dificil dar los parametros sin compararlo visualmente con el espectro. Para estos modelos que los parametros iniciales (en forma de vector) estan lejos de los estimados por el maximum likelihood estimation puede significar que la minimización o el proceso de sampling el algoritmo se quedo atorado en un máximo local.\n",
    "\n",
    "En orden de hacer facilmente una adecuada estimación, Naima provee una herramienta para interactivamente ver el output del modelo y compararlo  con la data observada mientras se cambian los parametros(en forma de vector).  Esta herramienta se activa al poner ``interactive=True`` in the options of ``get_sampler`` or ``run_sampler``. Esto abrira una ventana de matplotlib interactiva en la cual los parametros pueden ser cambiados y eso modifica el modelo resultante al espectro input. En cada cambio la probabilidad (log) del modelo  dado el espectro input es recalculada. En adición, el Nelder-Mead fit puede ser abierto desde un boton en la ventana para encontrar los parametros estimados (en forma de vector) de maximum likelihood. Una vez que el usuario considera que el modelo es una buena aproximación del espectro input, debe cerrar la ventana y se usara el parametro que haya elegido para el proceso de ``sampling``(ver el siguiente caso)."
   ]
  },
  {
   "cell_type": "markdown",
   "metadata": {},
   "source": [
    "Un modo alternativo de acceder a la herramienta alternativa es acceder a ella directamente a través de la class ``naima.InteractiveModelFitter``  a traves de un interpter de Python interactivo. Los parametros(en forma de vector) se mostraran en una ventana interactiva a la que se puede acceder a traves del atributo ``imf.pars`` y de ahi ser copiados al nuevo p0 para luego utilizarla en el sampling. Todo este proceso se realiza del siguiente modo:\n",
    "\n",
    "    imf = InteractiveModelFitter(model, p0, data=data, labels=labels)\n",
    "    p0 = imf.pars\n",
    "    \n",
    "Notese que se puede omitir el argumento de data al especificar un rango en el parametro ``e_range`` para hacer el ajuste independientemente de la data:\n",
    "\n",
    "    imf = InteractiveModelFitter(model, p0, e_range=[1*u.GeV, 100*u.TeV])"
   ]
  },
  {
   "cell_type": "markdown",
   "metadata": {},
   "source": [
    "### 4° Sampling la función del modelo"
   ]
  },
  {
   "cell_type": "markdown",
   "metadata": {},
   "source": [
    "Debemos usar las funciones ``get_sampler`` y ``run_sampler`` en la tabla del input."
   ]
  },
  {
   "cell_type": "markdown",
   "metadata": {},
   "source": [
    "Todos los objetos obtenidos anteriormente deben ser dados a la función ``run_sampler`` que corre un sampler del MCMC, la principal función para modelar ('fitting') en Naima:"
   ]
  },
  {
   "cell_type": "markdown",
   "metadata": {},
   "source": [
    "El parametro de los ``nwalkers`` ('walkers': parametro del paquete de emcee. Son integrantes del ensamble) especifican cuantos parametros deben ser usados en el sampling. El parametro ``nburn`` especifica cuantos pasos deben avanzar y los parametros ``burn-in`` y ``nrun`` especifican cuantos pasos deberian avanzar despues de que se acaban los pasos y estos parametros se guardan en el objeto ``sampler``."
   ]
  },
  {
   "cell_type": "code",
   "execution_count": 23,
   "metadata": {},
   "outputs": [
    {
     "name": "stdout",
     "output_type": "stream",
     "text": [
      "INFO: Finding Maximum Likelihood parameters through Nelder-Mead fitting... [naima.core]\n",
      "INFO:    Initial parameters: [1.87859806e+32 3.00000000e+00 1.47712125e+00] [naima.core]\n",
      "INFO:    Initial lnprob(p0): -175.747 [naima.core]\n",
      "INFO:    New ML parameters : [1.38844453e+32 2.57175369e+00 1.68211459e+00] [naima.core]\n",
      "INFO:    Maximum lnprob(p0): -18.019 [naima.core]\n",
      "Burning in the 32 walkers with 100 steps...\n"
     ]
    },
    {
     "ename": "KeyboardInterrupt",
     "evalue": "",
     "output_type": "error",
     "traceback": [
      "\u001b[1;31m---------------------------------------------------------------------------\u001b[0m",
      "\u001b[1;31mKeyboardInterrupt\u001b[0m                         Traceback (most recent call last)",
      "\u001b[1;32m<ipython-input-23-1dc71b784675>\u001b[0m in \u001b[0;36m<module>\u001b[1;34m()\u001b[0m\n\u001b[0;32m     11\u001b[0m         \u001b[0mnrun\u001b[0m\u001b[1;33m=\u001b[0m\u001b[1;36m20\u001b[0m\u001b[1;33m,\u001b[0m\u001b[1;33m\u001b[0m\u001b[0m\n\u001b[0;32m     12\u001b[0m         \u001b[0mthreads\u001b[0m\u001b[1;33m=\u001b[0m\u001b[1;36m4\u001b[0m\u001b[1;33m,\u001b[0m\u001b[1;33m\u001b[0m\u001b[0m\n\u001b[1;32m---> 13\u001b[1;33m         \u001b[0mprefit\u001b[0m\u001b[1;33m=\u001b[0m\u001b[1;32mTrue\u001b[0m\u001b[1;33m,\u001b[0m\u001b[1;33m\u001b[0m\u001b[0m\n\u001b[0m\u001b[0;32m     14\u001b[0m     )\n\u001b[0;32m     15\u001b[0m \u001b[1;33m\u001b[0m\u001b[0m\n",
      "\u001b[1;32m~\\Anaconda3\\lib\\site-packages\\naima\\core.py\u001b[0m in \u001b[0;36mrun_sampler\u001b[1;34m(nrun, sampler, pos, **kwargs)\u001b[0m\n\u001b[0;32m    553\u001b[0m \u001b[1;33m\u001b[0m\u001b[0m\n\u001b[0;32m    554\u001b[0m     \u001b[1;32mif\u001b[0m \u001b[0msampler\u001b[0m \u001b[1;32mis\u001b[0m \u001b[1;32mNone\u001b[0m \u001b[1;32mor\u001b[0m \u001b[0mpos\u001b[0m \u001b[1;32mis\u001b[0m \u001b[1;32mNone\u001b[0m\u001b[1;33m:\u001b[0m\u001b[1;33m\u001b[0m\u001b[0m\n\u001b[1;32m--> 555\u001b[1;33m         \u001b[0msampler\u001b[0m\u001b[1;33m,\u001b[0m \u001b[0mpos\u001b[0m \u001b[1;33m=\u001b[0m \u001b[0mget_sampler\u001b[0m\u001b[1;33m(\u001b[0m\u001b[1;33m**\u001b[0m\u001b[0mkwargs\u001b[0m\u001b[1;33m)\u001b[0m\u001b[1;33m\u001b[0m\u001b[0m\n\u001b[0m\u001b[0;32m    556\u001b[0m \u001b[1;33m\u001b[0m\u001b[0m\n\u001b[0;32m    557\u001b[0m     \u001b[0msampler\u001b[0m\u001b[1;33m.\u001b[0m\u001b[0mrun_info\u001b[0m\u001b[1;33m[\u001b[0m\u001b[1;34m\"n_run\"\u001b[0m\u001b[1;33m]\u001b[0m \u001b[1;33m=\u001b[0m \u001b[0mnrun\u001b[0m\u001b[1;33m\u001b[0m\u001b[0m\n",
      "\u001b[1;32m~\\Anaconda3\\lib\\site-packages\\naima\\core.py\u001b[0m in \u001b[0;36mget_sampler\u001b[1;34m(data_table, p0, model, prior, nwalkers, nburn, guess, interactive, prefit, labels, threads, data_sed)\u001b[0m\n\u001b[0;32m    514\u001b[0m             )\n\u001b[0;32m    515\u001b[0m         )\n\u001b[1;32m--> 516\u001b[1;33m         \u001b[0msampler\u001b[0m\u001b[1;33m,\u001b[0m \u001b[0mpos\u001b[0m \u001b[1;33m=\u001b[0m \u001b[0m_run_mcmc\u001b[0m\u001b[1;33m(\u001b[0m\u001b[0msampler\u001b[0m\u001b[1;33m,\u001b[0m \u001b[0mp0\u001b[0m\u001b[1;33m,\u001b[0m \u001b[0mnburn\u001b[0m\u001b[1;33m)\u001b[0m\u001b[1;33m\u001b[0m\u001b[0m\n\u001b[0m\u001b[0;32m    517\u001b[0m     \u001b[1;32melse\u001b[0m\u001b[1;33m:\u001b[0m\u001b[1;33m\u001b[0m\u001b[0m\n\u001b[0;32m    518\u001b[0m         \u001b[0mpos\u001b[0m \u001b[1;33m=\u001b[0m \u001b[0mp0\u001b[0m\u001b[1;33m\u001b[0m\u001b[0m\n",
      "\u001b[1;32m~\\Anaconda3\\lib\\site-packages\\naima\\core.py\u001b[0m in \u001b[0;36m_run_mcmc\u001b[1;34m(sampler, pos, nrun)\u001b[0m\n\u001b[0;32m    151\u001b[0m \u001b[1;33m\u001b[0m\u001b[0m\n\u001b[0;32m    152\u001b[0m \u001b[1;32mdef\u001b[0m \u001b[0m_run_mcmc\u001b[0m\u001b[1;33m(\u001b[0m\u001b[0msampler\u001b[0m\u001b[1;33m,\u001b[0m \u001b[0mpos\u001b[0m\u001b[1;33m,\u001b[0m \u001b[0mnrun\u001b[0m\u001b[1;33m)\u001b[0m\u001b[1;33m:\u001b[0m\u001b[1;33m\u001b[0m\u001b[0m\n\u001b[1;32m--> 153\u001b[1;33m     \u001b[1;32mfor\u001b[0m \u001b[0mi\u001b[0m\u001b[1;33m,\u001b[0m \u001b[0mout\u001b[0m \u001b[1;32min\u001b[0m \u001b[0menumerate\u001b[0m\u001b[1;33m(\u001b[0m\u001b[0msampler\u001b[0m\u001b[1;33m.\u001b[0m\u001b[0msample\u001b[0m\u001b[1;33m(\u001b[0m\u001b[0mpos\u001b[0m\u001b[1;33m,\u001b[0m \u001b[0miterations\u001b[0m\u001b[1;33m=\u001b[0m\u001b[0mnrun\u001b[0m\u001b[1;33m)\u001b[0m\u001b[1;33m)\u001b[0m\u001b[1;33m:\u001b[0m\u001b[1;33m\u001b[0m\u001b[0m\n\u001b[0m\u001b[0;32m    154\u001b[0m         \u001b[0mprogress\u001b[0m \u001b[1;33m=\u001b[0m \u001b[1;36m100.0\u001b[0m \u001b[1;33m*\u001b[0m \u001b[0mfloat\u001b[0m\u001b[1;33m(\u001b[0m\u001b[0mi\u001b[0m\u001b[1;33m)\u001b[0m \u001b[1;33m/\u001b[0m \u001b[0mfloat\u001b[0m\u001b[1;33m(\u001b[0m\u001b[0mnrun\u001b[0m\u001b[1;33m)\u001b[0m\u001b[1;33m\u001b[0m\u001b[0m\n\u001b[0;32m    155\u001b[0m         \u001b[1;32mif\u001b[0m \u001b[0mprogress\u001b[0m \u001b[1;33m%\u001b[0m \u001b[1;36m5\u001b[0m \u001b[1;33m<\u001b[0m \u001b[1;33m(\u001b[0m\u001b[1;36m5.0\u001b[0m \u001b[1;33m/\u001b[0m \u001b[0mfloat\u001b[0m\u001b[1;33m(\u001b[0m\u001b[0mnrun\u001b[0m\u001b[1;33m)\u001b[0m\u001b[1;33m)\u001b[0m\u001b[1;33m:\u001b[0m\u001b[1;33m\u001b[0m\u001b[0m\n",
      "\u001b[1;32m~\\Anaconda3\\lib\\site-packages\\emcee-2.1.0-py3.6.egg\\emcee\\ensemble.py\u001b[0m in \u001b[0;36msample\u001b[1;34m(self, p0, lnprob0, rstate0, blobs0, iterations, thin, storechain, mh_proposal)\u001b[0m\n\u001b[0;32m    196\u001b[0m         \u001b[0mblobs\u001b[0m \u001b[1;33m=\u001b[0m \u001b[0mblobs0\u001b[0m\u001b[1;33m\u001b[0m\u001b[0m\n\u001b[0;32m    197\u001b[0m         \u001b[1;32mif\u001b[0m \u001b[0mlnprob\u001b[0m \u001b[1;32mis\u001b[0m \u001b[1;32mNone\u001b[0m\u001b[1;33m:\u001b[0m\u001b[1;33m\u001b[0m\u001b[0m\n\u001b[1;32m--> 198\u001b[1;33m             \u001b[0mlnprob\u001b[0m\u001b[1;33m,\u001b[0m \u001b[0mblobs\u001b[0m \u001b[1;33m=\u001b[0m \u001b[0mself\u001b[0m\u001b[1;33m.\u001b[0m\u001b[0m_get_lnprob\u001b[0m\u001b[1;33m(\u001b[0m\u001b[0mp\u001b[0m\u001b[1;33m)\u001b[0m\u001b[1;33m\u001b[0m\u001b[0m\n\u001b[0m\u001b[0;32m    199\u001b[0m \u001b[1;33m\u001b[0m\u001b[0m\n\u001b[0;32m    200\u001b[0m         \u001b[1;31m# Check to make sure that the probability function didn't return\u001b[0m\u001b[1;33m\u001b[0m\u001b[1;33m\u001b[0m\u001b[0m\n",
      "\u001b[1;32m~\\Anaconda3\\lib\\site-packages\\emcee-2.1.0-py3.6.egg\\emcee\\ensemble.py\u001b[0m in \u001b[0;36m_get_lnprob\u001b[1;34m(self, pos)\u001b[0m\n\u001b[0;32m    380\u001b[0m \u001b[1;33m\u001b[0m\u001b[0m\n\u001b[0;32m    381\u001b[0m         \u001b[1;31m# Run the log-probability calculations (optionally in parallel).\u001b[0m\u001b[1;33m\u001b[0m\u001b[1;33m\u001b[0m\u001b[0m\n\u001b[1;32m--> 382\u001b[1;33m         \u001b[0mresults\u001b[0m \u001b[1;33m=\u001b[0m \u001b[0mlist\u001b[0m\u001b[1;33m(\u001b[0m\u001b[0mM\u001b[0m\u001b[1;33m(\u001b[0m\u001b[0mself\u001b[0m\u001b[1;33m.\u001b[0m\u001b[0mlnprobfn\u001b[0m\u001b[1;33m,\u001b[0m \u001b[1;33m[\u001b[0m\u001b[0mp\u001b[0m\u001b[1;33m[\u001b[0m\u001b[0mi\u001b[0m\u001b[1;33m]\u001b[0m \u001b[1;32mfor\u001b[0m \u001b[0mi\u001b[0m \u001b[1;32min\u001b[0m \u001b[0mrange\u001b[0m\u001b[1;33m(\u001b[0m\u001b[0mlen\u001b[0m\u001b[1;33m(\u001b[0m\u001b[0mp\u001b[0m\u001b[1;33m)\u001b[0m\u001b[1;33m)\u001b[0m\u001b[1;33m]\u001b[0m\u001b[1;33m)\u001b[0m\u001b[1;33m)\u001b[0m\u001b[1;33m\u001b[0m\u001b[0m\n\u001b[0m\u001b[0;32m    383\u001b[0m \u001b[1;33m\u001b[0m\u001b[0m\n\u001b[0;32m    384\u001b[0m         \u001b[1;32mtry\u001b[0m\u001b[1;33m:\u001b[0m\u001b[1;33m\u001b[0m\u001b[0m\n",
      "\u001b[1;32m~\\Anaconda3\\lib\\site-packages\\emcee-2.1.0-py3.6.egg\\emcee\\interruptible_pool.py\u001b[0m in \u001b[0;36mmap\u001b[1;34m(self, func, iterable, chunksize)\u001b[0m\n\u001b[0;32m     92\u001b[0m         \u001b[1;32mwhile\u001b[0m \u001b[1;32mTrue\u001b[0m\u001b[1;33m:\u001b[0m\u001b[1;33m\u001b[0m\u001b[0m\n\u001b[0;32m     93\u001b[0m             \u001b[1;32mtry\u001b[0m\u001b[1;33m:\u001b[0m\u001b[1;33m\u001b[0m\u001b[0m\n\u001b[1;32m---> 94\u001b[1;33m                 \u001b[1;32mreturn\u001b[0m \u001b[0mr\u001b[0m\u001b[1;33m.\u001b[0m\u001b[0mget\u001b[0m\u001b[1;33m(\u001b[0m\u001b[0mself\u001b[0m\u001b[1;33m.\u001b[0m\u001b[0mwait_timeout\u001b[0m\u001b[1;33m)\u001b[0m\u001b[1;33m\u001b[0m\u001b[0m\n\u001b[0m\u001b[0;32m     95\u001b[0m             \u001b[1;32mexcept\u001b[0m \u001b[0mTimeoutError\u001b[0m\u001b[1;33m:\u001b[0m\u001b[1;33m\u001b[0m\u001b[0m\n\u001b[0;32m     96\u001b[0m                 \u001b[1;32mpass\u001b[0m\u001b[1;33m\u001b[0m\u001b[0m\n",
      "\u001b[1;32m~\\Anaconda3\\lib\\multiprocessing\\pool.py\u001b[0m in \u001b[0;36mget\u001b[1;34m(self, timeout)\u001b[0m\n\u001b[0;32m    636\u001b[0m \u001b[1;33m\u001b[0m\u001b[0m\n\u001b[0;32m    637\u001b[0m     \u001b[1;32mdef\u001b[0m \u001b[0mget\u001b[0m\u001b[1;33m(\u001b[0m\u001b[0mself\u001b[0m\u001b[1;33m,\u001b[0m \u001b[0mtimeout\u001b[0m\u001b[1;33m=\u001b[0m\u001b[1;32mNone\u001b[0m\u001b[1;33m)\u001b[0m\u001b[1;33m:\u001b[0m\u001b[1;33m\u001b[0m\u001b[0m\n\u001b[1;32m--> 638\u001b[1;33m         \u001b[0mself\u001b[0m\u001b[1;33m.\u001b[0m\u001b[0mwait\u001b[0m\u001b[1;33m(\u001b[0m\u001b[0mtimeout\u001b[0m\u001b[1;33m)\u001b[0m\u001b[1;33m\u001b[0m\u001b[0m\n\u001b[0m\u001b[0;32m    639\u001b[0m         \u001b[1;32mif\u001b[0m \u001b[1;32mnot\u001b[0m \u001b[0mself\u001b[0m\u001b[1;33m.\u001b[0m\u001b[0mready\u001b[0m\u001b[1;33m(\u001b[0m\u001b[1;33m)\u001b[0m\u001b[1;33m:\u001b[0m\u001b[1;33m\u001b[0m\u001b[0m\n\u001b[0;32m    640\u001b[0m             \u001b[1;32mraise\u001b[0m \u001b[0mTimeoutError\u001b[0m\u001b[1;33m\u001b[0m\u001b[0m\n",
      "\u001b[1;32m~\\Anaconda3\\lib\\multiprocessing\\pool.py\u001b[0m in \u001b[0;36mwait\u001b[1;34m(self, timeout)\u001b[0m\n\u001b[0;32m    633\u001b[0m \u001b[1;33m\u001b[0m\u001b[0m\n\u001b[0;32m    634\u001b[0m     \u001b[1;32mdef\u001b[0m \u001b[0mwait\u001b[0m\u001b[1;33m(\u001b[0m\u001b[0mself\u001b[0m\u001b[1;33m,\u001b[0m \u001b[0mtimeout\u001b[0m\u001b[1;33m=\u001b[0m\u001b[1;32mNone\u001b[0m\u001b[1;33m)\u001b[0m\u001b[1;33m:\u001b[0m\u001b[1;33m\u001b[0m\u001b[0m\n\u001b[1;32m--> 635\u001b[1;33m         \u001b[0mself\u001b[0m\u001b[1;33m.\u001b[0m\u001b[0m_event\u001b[0m\u001b[1;33m.\u001b[0m\u001b[0mwait\u001b[0m\u001b[1;33m(\u001b[0m\u001b[0mtimeout\u001b[0m\u001b[1;33m)\u001b[0m\u001b[1;33m\u001b[0m\u001b[0m\n\u001b[0m\u001b[0;32m    636\u001b[0m \u001b[1;33m\u001b[0m\u001b[0m\n\u001b[0;32m    637\u001b[0m     \u001b[1;32mdef\u001b[0m \u001b[0mget\u001b[0m\u001b[1;33m(\u001b[0m\u001b[0mself\u001b[0m\u001b[1;33m,\u001b[0m \u001b[0mtimeout\u001b[0m\u001b[1;33m=\u001b[0m\u001b[1;32mNone\u001b[0m\u001b[1;33m)\u001b[0m\u001b[1;33m:\u001b[0m\u001b[1;33m\u001b[0m\u001b[0m\n",
      "\u001b[1;32m~\\Anaconda3\\lib\\threading.py\u001b[0m in \u001b[0;36mwait\u001b[1;34m(self, timeout)\u001b[0m\n\u001b[0;32m    549\u001b[0m             \u001b[0msignaled\u001b[0m \u001b[1;33m=\u001b[0m \u001b[0mself\u001b[0m\u001b[1;33m.\u001b[0m\u001b[0m_flag\u001b[0m\u001b[1;33m\u001b[0m\u001b[0m\n\u001b[0;32m    550\u001b[0m             \u001b[1;32mif\u001b[0m \u001b[1;32mnot\u001b[0m \u001b[0msignaled\u001b[0m\u001b[1;33m:\u001b[0m\u001b[1;33m\u001b[0m\u001b[0m\n\u001b[1;32m--> 551\u001b[1;33m                 \u001b[0msignaled\u001b[0m \u001b[1;33m=\u001b[0m \u001b[0mself\u001b[0m\u001b[1;33m.\u001b[0m\u001b[0m_cond\u001b[0m\u001b[1;33m.\u001b[0m\u001b[0mwait\u001b[0m\u001b[1;33m(\u001b[0m\u001b[0mtimeout\u001b[0m\u001b[1;33m)\u001b[0m\u001b[1;33m\u001b[0m\u001b[0m\n\u001b[0m\u001b[0;32m    552\u001b[0m             \u001b[1;32mreturn\u001b[0m \u001b[0msignaled\u001b[0m\u001b[1;33m\u001b[0m\u001b[0m\n\u001b[0;32m    553\u001b[0m \u001b[1;33m\u001b[0m\u001b[0m\n",
      "\u001b[1;32m~\\Anaconda3\\lib\\threading.py\u001b[0m in \u001b[0;36mwait\u001b[1;34m(self, timeout)\u001b[0m\n\u001b[0;32m    297\u001b[0m             \u001b[1;32melse\u001b[0m\u001b[1;33m:\u001b[0m\u001b[1;33m\u001b[0m\u001b[0m\n\u001b[0;32m    298\u001b[0m                 \u001b[1;32mif\u001b[0m \u001b[0mtimeout\u001b[0m \u001b[1;33m>\u001b[0m \u001b[1;36m0\u001b[0m\u001b[1;33m:\u001b[0m\u001b[1;33m\u001b[0m\u001b[0m\n\u001b[1;32m--> 299\u001b[1;33m                     \u001b[0mgotit\u001b[0m \u001b[1;33m=\u001b[0m \u001b[0mwaiter\u001b[0m\u001b[1;33m.\u001b[0m\u001b[0macquire\u001b[0m\u001b[1;33m(\u001b[0m\u001b[1;32mTrue\u001b[0m\u001b[1;33m,\u001b[0m \u001b[0mtimeout\u001b[0m\u001b[1;33m)\u001b[0m\u001b[1;33m\u001b[0m\u001b[0m\n\u001b[0m\u001b[0;32m    300\u001b[0m                 \u001b[1;32melse\u001b[0m\u001b[1;33m:\u001b[0m\u001b[1;33m\u001b[0m\u001b[0m\n\u001b[0;32m    301\u001b[0m                     \u001b[0mgotit\u001b[0m \u001b[1;33m=\u001b[0m \u001b[0mwaiter\u001b[0m\u001b[1;33m.\u001b[0m\u001b[0macquire\u001b[0m\u001b[1;33m(\u001b[0m\u001b[1;32mFalse\u001b[0m\u001b[1;33m)\u001b[0m\u001b[1;33m\u001b[0m\u001b[0m\n",
      "\u001b[1;31mKeyboardInterrupt\u001b[0m: "
     ]
    }
   ],
   "source": [
    "if __name__ == \"__main__\": \n",
    "    ## Run sampler\n",
    "    sampler, pos = naima.run_sampler(\n",
    "        data_table=data,\n",
    "        p0=p0,\n",
    "        labels=labels,\n",
    "        model=ElectronIC,\n",
    "        prior=lnprior,\n",
    "        nwalkers=32,\n",
    "        nburn=100,\n",
    "        nrun=20,\n",
    "        threads=4,\n",
    "        prefit=True,\n",
    "    )\n",
    "\n",
    "    ## Save run results to HDF5 file (can be read later with naima.read_run)\n",
    "    naima.save_run(\"RXJ1713_IC_run.hdf5\", sampler)"
   ]
  },
  {
   "cell_type": "markdown",
   "metadata": {},
   "source": [
    "### 5° Inspecting and analysing results of the run"
   ]
  },
  {
   "cell_type": "markdown",
   "metadata": {},
   "source": [
    "Los resultados son guardados en un objeto llamado ``sampler`` que puede ser analizado a través de las funciones para plotear de Naima: ``plot_chain``, ``plot_fit``, y ``plot_data``. En adición, dos funciones convenientes pueden ser usadas para generar una coleción de plots que ilustran los resultados y la estabilidad del procedimeinto. Estos son ``save_diagnostic_plots`` y ``save_results_table``.\n",
    "\n",
    "La tabla guardada incluira información en la metadata acerca del proceso como el número de walkers ``n_walkers`` y pasos ``n_run`` usados en el sampling, los parametros iniciales (en forma de vector), el parametro vector con la maximum likelihood ``ML_pars`` y el maxixmo valor deel negativo negative log-likelihood ``MaxLogLikelihood``. La tabla en si misma muestra las media y upper & lower incertidumbres (50th, 84th y 16th percentiles de la distribución) para los parametros del espectro input.\n",
    "\n",
    "La tabla es guardada por default con un formato ECSV la cual puede ser facilmente accesible con el modulo ``astropy.io.ascii``."
   ]
  },
  {
   "cell_type": "code",
   "execution_count": null,
   "metadata": {},
   "outputs": [],
   "source": [
    "if __name__ == \"__main__\":\n",
    "    ## Diagnostic plots with labels for the metadata blobs\n",
    "    naima.save_diagnostic_plots(\n",
    "        \"RXJ1713_IC\",\n",
    "        sampler,\n",
    "        sed=True,\n",
    "        last_step=False,\n",
    "        blob_labels=[\n",
    "            \"Spectrum\",\n",
    "            \"Electron energy distribution\",\n",
    "            \"$W_e (E_e>1\\, \\mathrm{TeV})$\",\n",
    "        ],\n",
    "    )\n",
    "    naima.save_results_table(\"RXJ1713_IC\", sampler)"
   ]
  }
 ],
 "metadata": {
  "kernelspec": {
   "display_name": "Python 3",
   "language": "python",
   "name": "python3"
  },
  "language_info": {
   "codemirror_mode": {
    "name": "ipython",
    "version": 3
   },
   "file_extension": ".py",
   "mimetype": "text/x-python",
   "name": "python",
   "nbconvert_exporter": "python",
   "pygments_lexer": "ipython3",
   "version": "3.6.5"
  }
 },
 "nbformat": 4,
 "nbformat_minor": 2
}
